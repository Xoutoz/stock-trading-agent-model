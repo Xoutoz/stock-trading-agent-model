{
 "cells": [
  {
   "cell_type": "markdown",
   "metadata": {},
   "source": [
    "## Imports"
   ]
  },
  {
   "cell_type": "code",
   "execution_count": 1,
   "metadata": {},
   "outputs": [],
   "source": [
    "import numpy as np\n",
    "import pandas as pd\n",
    "import matplotlib.pyplot as plt\n",
    "import mplfinance as mpf\n",
    "\n",
    "import quantstats as qs\n",
    "\n",
    "from src.env.env import CustomStockEnv\n",
    "import warnings\n",
    "\n",
    "warnings.simplefilter(action='ignore')"
   ]
  },
  {
   "cell_type": "markdown",
   "metadata": {},
   "source": [
    "## Constants"
   ]
  },
  {
   "cell_type": "code",
   "execution_count": 2,
   "metadata": {},
   "outputs": [],
   "source": [
    "INITIAL_INVESTMENT = 30_000\n",
    "NUMBER_OF_EPISODES = 10_000"
   ]
  },
  {
   "cell_type": "markdown",
   "metadata": {},
   "source": [
    "## Extract historical data"
   ]
  },
  {
   "cell_type": "code",
   "execution_count": null,
   "metadata": {},
   "outputs": [],
   "source": [
    "env = CustomStockEnv.build_from_symbol('2019-01-01', '2024-10-31')\n",
    "data = env.data\n",
    "\n",
    "data['Close'].plot(figsize=(14, 7), title='The Coca-Cola Company Asset Close Historical Prices', ylabel='Asset Value ($)', xlabel='Date', color=plt.cm.cividis(0.3))\n",
    "plt.show()"
   ]
  },
  {
   "cell_type": "markdown",
   "metadata": {},
   "source": [
    "## Calculate returns, expected mean returns and risk"
   ]
  },
  {
   "cell_type": "code",
   "execution_count": null,
   "metadata": {},
   "outputs": [],
   "source": [
    "## get the returns\n",
    "returns = data.pct_change()\n",
    "\n",
    "## calculate the expected mean returns\n",
    "mean_return = returns.mean()\n",
    "\n",
    "## calculate the asset trading risk\n",
    "volatility = returns.std()\n",
    "\n",
    "print(f\"Mean Return: {round(mean_return['Close'], 5)}\")\n",
    "print(f\"Volatility (Risk): {round(volatility['Close'], 5)}\")"
   ]
  },
  {
   "cell_type": "markdown",
   "metadata": {},
   "source": [
    "## Define statistical strategy"
   ]
  },
  {
   "cell_type": "markdown",
   "metadata": {},
   "source": [
    "### MACD Strategy"
   ]
  },
  {
   "cell_type": "code",
   "execution_count": 5,
   "metadata": {},
   "outputs": [],
   "source": [
    "from src.utils.macd_strategy import MACDStrategy\n",
    "\n",
    "strategy = MACDStrategy(CustomStockEnv.build_from_symbol(start_date=\"2019-01-01\", end_date=\"2024-10-31\"))\n",
    "strategy.apply_strategy(INITIAL_INVESTMENT)\n",
    "data = strategy.data"
   ]
  },
  {
   "cell_type": "markdown",
   "metadata": {},
   "source": [
    "## Strategy results"
   ]
  },
  {
   "cell_type": "code",
   "execution_count": null,
   "metadata": {},
   "outputs": [],
   "source": [
    "color1 = plt.cm.cividis(0.3)\n",
    "color2 = plt.cm.cividis(0.8)\n",
    "\n",
    "fig, ax1 = plt.subplots(figsize=(14, 7))\n",
    "\n",
    "# Plot the close prices\n",
    "ax1.plot(data.index, data['Close'], label='Close Price', color=color1)\n",
    "ax1.set_xlabel('Date')\n",
    "ax1.set_ylabel('Close Price ($)', color=color1)\n",
    "ax1.tick_params(axis='y', labelcolor='black')\n",
    "\n",
    "# Create a second y-axis to plot the histogram\n",
    "ax2 = ax1.twinx()\n",
    "ax2.plot(data.index, data['Histogram'], label='MACD Histogram', color=color2)\n",
    "ax2.tick_params(axis='y', labelcolor='black')\n",
    "\n",
    "fig.suptitle('Close Prices and MACD Histogram')\n",
    "ax1.legend()\n",
    "ax2.legend()\n",
    "fig.tight_layout()\n",
    "plt.show()"
   ]
  },
  {
   "cell_type": "code",
   "execution_count": null,
   "metadata": {},
   "outputs": [],
   "source": [
    "scaled_close = data['Close'] * (data['Portfolio'].max() / data['Close'].max())\n",
    "\n",
    "# Plot the portfolio results with cividis color map\n",
    "plt.figure(figsize=(14, 7))\n",
    "plt.plot(data.index, scaled_close, label='Scaled Close Price', color=plt.cm.cividis(0.8))\n",
    "plt.plot(data.index, data['Portfolio'], label='Portfolio', color=plt.cm.cividis(0.3))\n",
    "plt.legend()\n",
    "plt.title('MACD Strategy')\n",
    "plt.xlabel('Date')\n",
    "plt.ylabel('Portfolio balance ($)')\n",
    "plt.show()"
   ]
  },
  {
   "cell_type": "code",
   "execution_count": null,
   "metadata": {},
   "outputs": [],
   "source": [
    "from src.utils.backtest import Backtest\n",
    "\n",
    "Backtest.evaluate(strategy, initial_investment=INITIAL_INVESTMENT)"
   ]
  },
  {
   "cell_type": "markdown",
   "metadata": {},
   "source": [
    "## Agent"
   ]
  },
  {
   "cell_type": "markdown",
   "metadata": {},
   "source": [
    "### Q-Learning agent"
   ]
  },
  {
   "cell_type": "code",
   "execution_count": null,
   "metadata": {},
   "outputs": [],
   "source": [
    "from src.agent.q_learning_agent import QLearningAgent\n",
    "\n",
    "agent = QLearningAgent(\n",
    "        env=env,\n",
    "        entry_points=strategy.entry_points,\n",
    "        symbol_risk_free_rate=strategy.risk)\n",
    "\n",
    "total_reward, portfolio, trades = agent.learn(initial_investment=INITIAL_INVESTMENT, num_episodes=NUMBER_OF_EPISODES, verbose=True)"
   ]
  },
  {
   "cell_type": "markdown",
   "metadata": {},
   "source": [
    "## Agent Results"
   ]
  },
  {
   "cell_type": "code",
   "execution_count": null,
   "metadata": {},
   "outputs": [],
   "source": [
    "Backtest.model_evaluation(portfolio)"
   ]
  },
  {
   "cell_type": "markdown",
   "metadata": {},
   "source": [
    "### Model fine-tuning"
   ]
  },
  {
   "cell_type": "code",
   "execution_count": null,
   "metadata": {},
   "outputs": [],
   "source": [
    "from stable_baselines3 import PPO\n",
    "from stable_baselines3.common.vec_env import DummyVecEnv\n",
    "\n",
    "from src.env.q_learning_tuning_env import QLearningTuningEnv\n",
    "\n",
    "# Create the meta-environment\n",
    "meta_env = DummyVecEnv([lambda: QLearningTuningEnv(strategy=strategy, max_episodes=5)])\n",
    "\n",
    "# Create and train the PPO agent\n",
    "ppo_agent = PPO(\n",
    "    \"MlpPolicy\",\n",
    "    meta_env,\n",
    "    n_steps=256,      # Reduced rollout length to prevent memory issues\n",
    "    verbose=1\n",
    ")\n",
    "ppo_agent.learn(total_timesteps=50)\n",
    "\n",
    "# Get the best hyperparameters from the trained PPO agent\n",
    "obs = meta_env.envs[0].observation_space.sample()\n",
    "action, _ = ppo_agent.predict(obs, deterministic=True)\n",
    "\n",
    "# Extract hyperparameters using the action index\n",
    "best_hyperparameters = meta_env.envs[0].action_combinations[action]\n",
    "alpha, gamma, epsilon_min, epsilon_decay, lambda_min, lambda_decay = best_hyperparameters\n",
    "\n",
    "print(\"Best Hyperparameters Found:\")\n",
    "print(f\"Learning Rate: {round(alpha, 2)}, Gamma: {round(gamma, 2)}, Minimum Epsilon: {round(epsilon_min, 2)}, Epsilon Decay: {round(epsilon_decay, 3)}, Minimun Lambda: {round(lambda_min, 2)}, Lambda Decay: {round(lambda_decay, 3)}\")"
   ]
  },
  {
   "cell_type": "markdown",
   "metadata": {},
   "source": [
    "### Fine-tuned Agent results"
   ]
  },
  {
   "cell_type": "code",
   "execution_count": null,
   "metadata": {},
   "outputs": [],
   "source": [
    "fine_tuned_agent = QLearningAgent(\n",
    "    env=env,\n",
    "    entry_points=strategy.entry_points,\n",
    "    alpha=alpha,\n",
    "    gamma=gamma,\n",
    "    epsilon_min=epsilon_min,\n",
    "    epsilon_decay=epsilon_decay,\n",
    "    lambda_min=lambda_min,\n",
    "    lambda_decay=lambda_decay,\n",
    "    symbol_risk_free_rate=strategy.risk)\n",
    "ft_total_reward, ft_portfolio, ft_trades = fine_tuned_agent.learn(initial_investment=INITIAL_INVESTMENT, num_episodes=NUMBER_OF_EPISODES, verbose=True)"
   ]
  },
  {
   "cell_type": "markdown",
   "metadata": {},
   "source": [
    "## Results"
   ]
  },
  {
   "cell_type": "code",
   "execution_count": null,
   "metadata": {},
   "outputs": [],
   "source": [
    "# Plot the portfolio results with cividis color map\n",
    "plt.figure(figsize=(14, 7))\n",
    "plt.plot(data.index, data['Portfolio'], label='Strategy', color=plt.cm.cividis(0.8))\n",
    "plt.plot(data.index, portfolio[1:], label='Default agent', color=plt.cm.cividis(0.3))\n",
    "plt.plot(data.index, ft_portfolio[1:], label='Fine-tuned agent', color=plt.cm.cividis(0.6))\n",
    "plt.legend()\n",
    "plt.title('Agent Comparison vs. Strategy')\n",
    "plt.xlabel('Date')\n",
    "plt.ylabel('Portfolio balance ($)')\n",
    "plt.show()"
   ]
  }
 ],
 "metadata": {
  "kernelspec": {
   "display_name": ".venv",
   "language": "python",
   "name": "python3"
  },
  "language_info": {
   "codemirror_mode": {
    "name": "ipython",
    "version": 3
   },
   "file_extension": ".py",
   "mimetype": "text/x-python",
   "name": "python",
   "nbconvert_exporter": "python",
   "pygments_lexer": "ipython3",
   "version": "3.10.15"
  }
 },
 "nbformat": 4,
 "nbformat_minor": 2
}
